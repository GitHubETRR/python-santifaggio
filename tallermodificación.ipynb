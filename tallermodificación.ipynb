{
  "nbformat": 4,
  "nbformat_minor": 0,
  "metadata": {
    "colab": {
      "provenance": []
    },
    "kernelspec": {
      "name": "python3",
      "display_name": "Python 3"
    },
    "language_info": {
      "name": "python"
    }
  },
  "cells": [
    {
      "cell_type": "code",
      "execution_count": 1,
      "metadata": {
        "colab": {
          "base_uri": "https://localhost:8080/"
        },
        "id": "ma7n-bWCO8La",
        "outputId": "b0c20383-d29b-4f67-8c69-419cfc38ecc4"
      },
      "outputs": [
        {
          "output_type": "stream",
          "name": "stdout",
          "text": [
            "Hola, hoy vamos a modificar tu auto\n",
            "tenés un presupuesto inicial de: $372 dólares\n",
            "\n",
            "ingresá la marca de tu auto: subaru\n",
            "ingresá el nombre de tu auto: impreza\n",
            "ingresá la cantidad de caballos (hp) del auto: 200\n",
            "ingresá la cantidad de torque (Nm) del auto: 400\n",
            "\n",
            "elegí la modificación que quieras (dentro de tu presupuesto) de la siguiente lista:\n",
            "1 -reprogramar la ECU (Stage 1) (+15 HP, +50 Nm) - $250 dólares\n",
            "2 -añadir un downpipe (Stage 2) (+20 HP, +30 Nm) - $200 dólares\n",
            "3 -instalar un filtro de aire de alto rendimiento (+10 HP, +11 Nm) - $100 dólares\n",
            "4 -instalar un supercargador (+50 HP, +20 Nm) - $500 dólares\n",
            "\n",
            "ingresá el número de la modificación que querés realizar: 1\n",
            "\n",
            "Estamos modificando tu auto con -reprogramar la ECU (Stage 1). Vamos a tardar unos segunditos\n",
            "El auto ya está listo\n",
            "\n",
            "\n",
            "ahora lo vamos a pasar por los rodillos para medir el aumento de potencia y de torque\n",
            "completamos la modificación. tu impreza ahora tiene 215 caballos y 450 Nm\n",
            "\n",
            "presupuesto que te sobró: $122\n",
            "\n",
            "gracias por visitar el taller\n"
          ]
        }
      ],
      "source": [
        "import time\n",
        "import random\n",
        "\n",
        "def taller_modificación():\n",
        "    presupuesto = random.randint(200, 500)\n",
        "    print(f\"Hola, hoy vamos a modificar tu auto\")\n",
        "    print(f\"tenés un presupuesto inicial de: ${presupuesto} dólares\\n\")\n",
        "\n",
        "\n",
        "    marca_auto = input(\"ingresá la marca de tu auto: \")\n",
        "    nombre_auto = input(\"ingresá el nombre de tu auto: \")\n",
        "    potencia_inicial = int(input(\"ingresá la cantidad de caballos (hp) del auto: \"))\n",
        "    torque_inicial = int(input(\"ingresá la cantidad de torque (Nm) del auto: \"))\n",
        "\n",
        "\n",
        "    modificaciones = [\n",
        "        {\"nombre\": \"-reprogramar la ECU (Stage 1)\", \"incremento_potencia\": 15, \"incremento_torque\": 50, \"precio\": 250},\n",
        "        {\"nombre\": \"-añadir un downpipe (Stage 2)\", \"incremento_potencia\": 20, \"incremento_torque\": 30, \"precio\": 200},\n",
        "        {\"nombre\": \"-instalar un filtro de aire de alto rendimiento\", \"incremento_potencia\": 10, \"incremento_torque\": 11, \"precio\": 100},\n",
        "        {\"nombre\": \"-instalar un supercargador\", \"incremento_potencia\": 50, \"incremento_torque\": 20, \"precio\": 500}\n",
        "    ]\n",
        "\n",
        "\n",
        "    print(\"\\nelegí la modificación que quieras (dentro de tu presupuesto) de la siguiente lista:\")\n",
        "    for i, mod in enumerate(modificaciones, start=1):\n",
        "        print(f\"{i} {mod['nombre']} (+{mod['incremento_potencia']} HP, +{mod['incremento_torque']} Nm) - ${mod['precio']} dólares\")\n",
        "\n",
        "\n",
        "    try:\n",
        "        eleccion = int(input(\"\\ningresá el número de la modificación que querés realizar: \")) - 1\n",
        "        if 0 <= eleccion < len(modificaciones):\n",
        "            mod = modificaciones[eleccion]\n",
        "            if presupuesto >= mod[\"precio\"]:\n",
        "                print(f\"\\nEstamos modificando tu auto con {mod['nombre']}. Vamos a tardar unos segunditos\")\n",
        "                time.sleep(5)\n",
        "                print(\"El auto ya está listo\\n\")\n",
        "\n",
        "                potencia_final = potencia_inicial + mod[\"incremento_potencia\"]\n",
        "                torque_final = torque_inicial + mod[\"incremento_torque\"]\n",
        "                presupuesto -= mod[\"precio\"]\n",
        "\n",
        "                print(\"\\nahora lo vamos a pasar por los rodillos para medir el aumento de potencia y de torque\")\n",
        "\n",
        "                time.sleep(3)\n",
        "                print(f\"completamos la modificación. tu {nombre_auto} ahora tiene {potencia_final} caballos y {torque_final} Nm\")\n",
        "                print(f\"\\npresupuesto que te sobró: ${presupuesto}\\n\")\n",
        "                print(\"gracias por visitar el taller\")\n",
        "            else:\n",
        "                print(\"\\nno tenés suficiente presupuesto para esta modificación.\")\n",
        "        else:\n",
        "            print(\"\\nopción inválida. Por favor, intentá nuevamente.\")\n",
        "    except ValueError:\n",
        "        print(\"\\nentrada inválida. Asegurate de ingresar un número.\")\n",
        "\n",
        "\n",
        "taller_modificación()"
      ]
    }
  ]
}